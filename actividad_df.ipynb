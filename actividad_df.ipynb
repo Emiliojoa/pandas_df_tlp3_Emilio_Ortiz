{
 "cells": [
  {
   "cell_type": "markdown",
   "id": "12ad2501",
   "metadata": {},
   "source": [
    "# Actividad - Trabajando con DataFrames de Pandas.\n",
    "## Criterios de evaluación.\n",
    "\n",
    "* Se deben utilizar nombres de variables descriptivos y claros (Utilizar la nomeclatura correspondiente para los nombres de variables).\n",
    "* Comentarios claros y concisos que expliquen el propósito de cada sección del código.\n",
    "* Utilizar mensajes de commit **descriptivos**. (Puedes utilizar la extension CONVENTIONAL COMMIT de VS-CODE). \n",
    "* Entrega en tiempo y forma.\n",
    "* Todo el código desarrollado debe ser subido a un repositorio en GitHub (el nombre del repositorio de seguir la siguiente estructura: pandas_df_tlp3_nombre_apellido).\n",
    "* Para resolver las actividades se debe insertar casillas de codigo entre cada actividad del cuaderno de Jupyter\n",
    "* Deben trabajar con el datasets adjunto a la actividad\n",
    "\n",
    "### ¡Importante!\n",
    "**El incumplimiento de los criterios de evaluación restará puntos en la nota final del práctico!**"
   ]
  },
  {
   "cell_type": "code",
   "execution_count": 49,
   "id": "afc60e66",
   "metadata": {},
   "outputs": [],
   "source": [
    "import pandas as pd\n",
    "import sqlite3\n",
    "\n",
    "#Aqui agrega la conexión a la base de datos\n",
    "connexion=sqlite3.connect(\"Salaries.sqlite\") \n",
    "#Crea el dataframe con los datos del datasets\n",
    "df=pd.read_sql_query(\"SELECT * FROM Salaries\", connexion)\n",
    "#Cierra la conexión a la base de datos\n",
    "connexion.close()\n",
    "\n",
    "\n"
   ]
  },
  {
   "cell_type": "code",
   "execution_count": 50,
   "id": "f571f50d",
   "metadata": {},
   "outputs": [
    {
     "data": {
      "text/plain": [
       "Id                       0\n",
       "EmployeeName             0\n",
       "JobTitle                 0\n",
       "BasePay                605\n",
       "OvertimePay              0\n",
       "OtherPay                 0\n",
       "Benefits             36159\n",
       "TotalPay                 0\n",
       "TotalPayBenefits         0\n",
       "Year                     0\n",
       "Notes               148654\n",
       "Agency                   0\n",
       "Status              110535\n",
       "dtype: int64"
      ]
     },
     "execution_count": 50,
     "metadata": {},
     "output_type": "execute_result"
    }
   ],
   "source": [
    "df.isnull().sum()"
   ]
  },
  {
   "cell_type": "markdown",
   "id": "b993b225",
   "metadata": {},
   "source": [
    "1. **Top 10 empleados con mayor salario total (incluyendo beneficios)**\n",
    "Extrae e imprime un top 10 de expleados con mayor salario incluyendo los beneficios \n"
   ]
  },
  {
   "cell_type": "code",
   "execution_count": 51,
   "id": "135f2471",
   "metadata": {},
   "outputs": [
    {
     "name": "stdout",
     "output_type": "stream",
     "text": [
      "Los 10 empleados con mayor salario son:\n"
     ]
    },
    {
     "data": {
      "text/html": [
       "<div>\n",
       "<style scoped>\n",
       "    .dataframe tbody tr th:only-of-type {\n",
       "        vertical-align: middle;\n",
       "    }\n",
       "\n",
       "    .dataframe tbody tr th {\n",
       "        vertical-align: top;\n",
       "    }\n",
       "\n",
       "    .dataframe thead th {\n",
       "        text-align: right;\n",
       "    }\n",
       "</style>\n",
       "<table border=\"1\" class=\"dataframe\">\n",
       "  <thead>\n",
       "    <tr style=\"text-align: right;\">\n",
       "      <th></th>\n",
       "      <th>EmployeeName</th>\n",
       "      <th>TotalPayBenefits</th>\n",
       "    </tr>\n",
       "  </thead>\n",
       "  <tbody>\n",
       "    <tr>\n",
       "      <th>0</th>\n",
       "      <td>NATHANIEL FORD</td>\n",
       "      <td>567595.43</td>\n",
       "    </tr>\n",
       "    <tr>\n",
       "      <th>1</th>\n",
       "      <td>GARY JIMENEZ</td>\n",
       "      <td>538909.28</td>\n",
       "    </tr>\n",
       "    <tr>\n",
       "      <th>110531</th>\n",
       "      <td>David Shinn</td>\n",
       "      <td>510732.68</td>\n",
       "    </tr>\n",
       "    <tr>\n",
       "      <th>110532</th>\n",
       "      <td>Amy P Hart</td>\n",
       "      <td>479652.21</td>\n",
       "    </tr>\n",
       "    <tr>\n",
       "      <th>110533</th>\n",
       "      <td>William J Coaker Jr.</td>\n",
       "      <td>436224.36</td>\n",
       "    </tr>\n",
       "    <tr>\n",
       "      <th>72925</th>\n",
       "      <td>Gregory P Suhr</td>\n",
       "      <td>425815.28</td>\n",
       "    </tr>\n",
       "    <tr>\n",
       "      <th>72926</th>\n",
       "      <td>Joanne M Hayes-White</td>\n",
       "      <td>422353.40</td>\n",
       "    </tr>\n",
       "    <tr>\n",
       "      <th>110534</th>\n",
       "      <td>Gregory P Suhr</td>\n",
       "      <td>418019.22</td>\n",
       "    </tr>\n",
       "    <tr>\n",
       "      <th>110535</th>\n",
       "      <td>Joanne M Hayes-White</td>\n",
       "      <td>417435.10</td>\n",
       "    </tr>\n",
       "    <tr>\n",
       "      <th>110536</th>\n",
       "      <td>Ellen G Moffatt</td>\n",
       "      <td>415767.94</td>\n",
       "    </tr>\n",
       "  </tbody>\n",
       "</table>\n",
       "</div>"
      ],
      "text/plain": [
       "                EmployeeName  TotalPayBenefits\n",
       "0             NATHANIEL FORD         567595.43\n",
       "1               GARY JIMENEZ         538909.28\n",
       "110531           David Shinn         510732.68\n",
       "110532            Amy P Hart         479652.21\n",
       "110533  William J Coaker Jr.         436224.36\n",
       "72925         Gregory P Suhr         425815.28\n",
       "72926   Joanne M Hayes-White         422353.40\n",
       "110534        Gregory P Suhr         418019.22\n",
       "110535  Joanne M Hayes-White         417435.10\n",
       "110536       Ellen G Moffatt         415767.94"
      ]
     },
     "execution_count": 51,
     "metadata": {},
     "output_type": "execute_result"
    }
   ],
   "source": [
    "#todo\n",
    "top_10=df[[\"EmployeeName\", \"TotalPayBenefits\"]].sort_values(\"TotalPayBenefits\", ascending=False).head(10)\n",
    "\n",
    "print(\"Los 10 empleados con mayor salario son:\")\n",
    "\n",
    "top_10"
   ]
  },
  {
   "cell_type": "markdown",
   "id": "fd03ce6c",
   "metadata": {},
   "source": [
    "2. **Filtrar empleados con más de 50,000 en horas extra, la columna a tratar es: (OvertimePay)**"
   ]
  },
  {
   "cell_type": "code",
   "execution_count": 52,
   "id": "648c22ee",
   "metadata": {},
   "outputs": [
    {
     "data": {
      "text/html": [
       "<div>\n",
       "<style scoped>\n",
       "    .dataframe tbody tr th:only-of-type {\n",
       "        vertical-align: middle;\n",
       "    }\n",
       "\n",
       "    .dataframe tbody tr th {\n",
       "        vertical-align: top;\n",
       "    }\n",
       "\n",
       "    .dataframe thead th {\n",
       "        text-align: right;\n",
       "    }\n",
       "</style>\n",
       "<table border=\"1\" class=\"dataframe\">\n",
       "  <thead>\n",
       "    <tr style=\"text-align: right;\">\n",
       "      <th></th>\n",
       "      <th>EmployeeName</th>\n",
       "      <th>OvertimePay</th>\n",
       "    </tr>\n",
       "  </thead>\n",
       "  <tbody>\n",
       "    <tr>\n",
       "      <th>0</th>\n",
       "      <td>NATHANIEL FORD</td>\n",
       "      <td>0.0</td>\n",
       "    </tr>\n",
       "    <tr>\n",
       "      <th>1</th>\n",
       "      <td>GARY JIMENEZ</td>\n",
       "      <td>245131.88</td>\n",
       "    </tr>\n",
       "    <tr>\n",
       "      <th>2</th>\n",
       "      <td>ALBERT PARDINI</td>\n",
       "      <td>106088.18</td>\n",
       "    </tr>\n",
       "    <tr>\n",
       "      <th>3</th>\n",
       "      <td>CHRISTOPHER CHONG</td>\n",
       "      <td>56120.71</td>\n",
       "    </tr>\n",
       "    <tr>\n",
       "      <th>4</th>\n",
       "      <td>PATRICK GARDNER</td>\n",
       "      <td>9737.0</td>\n",
       "    </tr>\n",
       "    <tr>\n",
       "      <th>...</th>\n",
       "      <td>...</td>\n",
       "      <td>...</td>\n",
       "    </tr>\n",
       "    <tr>\n",
       "      <th>148649</th>\n",
       "      <td>Roy I Tillery</td>\n",
       "      <td>0.00</td>\n",
       "    </tr>\n",
       "    <tr>\n",
       "      <th>148650</th>\n",
       "      <td>Not provided</td>\n",
       "      <td>Not Provided</td>\n",
       "    </tr>\n",
       "    <tr>\n",
       "      <th>148651</th>\n",
       "      <td>Not provided</td>\n",
       "      <td>Not Provided</td>\n",
       "    </tr>\n",
       "    <tr>\n",
       "      <th>148652</th>\n",
       "      <td>Not provided</td>\n",
       "      <td>Not Provided</td>\n",
       "    </tr>\n",
       "    <tr>\n",
       "      <th>148653</th>\n",
       "      <td>Joe Lopez</td>\n",
       "      <td>0.00</td>\n",
       "    </tr>\n",
       "  </tbody>\n",
       "</table>\n",
       "<p>148654 rows × 2 columns</p>\n",
       "</div>"
      ],
      "text/plain": [
       "             EmployeeName   OvertimePay\n",
       "0          NATHANIEL FORD           0.0\n",
       "1            GARY JIMENEZ     245131.88\n",
       "2          ALBERT PARDINI     106088.18\n",
       "3       CHRISTOPHER CHONG      56120.71\n",
       "4         PATRICK GARDNER        9737.0\n",
       "...                   ...           ...\n",
       "148649      Roy I Tillery          0.00\n",
       "148650       Not provided  Not Provided\n",
       "148651       Not provided  Not Provided\n",
       "148652       Not provided  Not Provided\n",
       "148653          Joe Lopez          0.00\n",
       "\n",
       "[148654 rows x 2 columns]"
      ]
     },
     "execution_count": 52,
     "metadata": {},
     "output_type": "execute_result"
    }
   ],
   "source": [
    "empleados_trabajadores=df[[\"EmployeeName\", \"OvertimePay\"]]\n",
    "df[\"OvertimePay\"]=pd.to_numeric(df[\"OvertimePay\"], errors=\"coerce\")\n",
    "empleados_trabajadores"
   ]
  },
  {
   "cell_type": "code",
   "execution_count": 59,
   "id": "c5dc65c7",
   "metadata": {},
   "outputs": [
    {
     "name": "stdout",
     "output_type": "stream",
     "text": [
      "Los empleados con más de 50,000 de horas extras son:\n"
     ]
    },
    {
     "data": {
      "text/html": [
       "<div>\n",
       "<style scoped>\n",
       "    .dataframe tbody tr th:only-of-type {\n",
       "        vertical-align: middle;\n",
       "    }\n",
       "\n",
       "    .dataframe tbody tr th {\n",
       "        vertical-align: top;\n",
       "    }\n",
       "\n",
       "    .dataframe thead th {\n",
       "        text-align: right;\n",
       "    }\n",
       "</style>\n",
       "<table border=\"1\" class=\"dataframe\">\n",
       "  <thead>\n",
       "    <tr style=\"text-align: right;\">\n",
       "      <th></th>\n",
       "      <th>Id</th>\n",
       "      <th>EmployeeName</th>\n",
       "      <th>JobTitle</th>\n",
       "      <th>BasePay</th>\n",
       "      <th>OvertimePay</th>\n",
       "      <th>OtherPay</th>\n",
       "      <th>Benefits</th>\n",
       "      <th>TotalPay</th>\n",
       "      <th>TotalPayBenefits</th>\n",
       "      <th>Year</th>\n",
       "      <th>Notes</th>\n",
       "      <th>Agency</th>\n",
       "      <th>Status</th>\n",
       "    </tr>\n",
       "  </thead>\n",
       "  <tbody>\n",
       "    <tr>\n",
       "      <th>1</th>\n",
       "      <td>2</td>\n",
       "      <td>GARY JIMENEZ</td>\n",
       "      <td>CAPTAIN III (POLICE DEPARTMENT)</td>\n",
       "      <td>155966.02</td>\n",
       "      <td>245131.88</td>\n",
       "      <td>137811.38</td>\n",
       "      <td>None</td>\n",
       "      <td>538909.28</td>\n",
       "      <td>538909.28</td>\n",
       "      <td>2011</td>\n",
       "      <td>None</td>\n",
       "      <td>San Francisco</td>\n",
       "      <td>None</td>\n",
       "    </tr>\n",
       "    <tr>\n",
       "      <th>2</th>\n",
       "      <td>3</td>\n",
       "      <td>ALBERT PARDINI</td>\n",
       "      <td>CAPTAIN III (POLICE DEPARTMENT)</td>\n",
       "      <td>212739.13</td>\n",
       "      <td>106088.18</td>\n",
       "      <td>16452.6</td>\n",
       "      <td>None</td>\n",
       "      <td>335279.91</td>\n",
       "      <td>335279.91</td>\n",
       "      <td>2011</td>\n",
       "      <td>None</td>\n",
       "      <td>San Francisco</td>\n",
       "      <td>None</td>\n",
       "    </tr>\n",
       "    <tr>\n",
       "      <th>3</th>\n",
       "      <td>4</td>\n",
       "      <td>CHRISTOPHER CHONG</td>\n",
       "      <td>WIRE ROPE CABLE MAINTENANCE MECHANIC</td>\n",
       "      <td>77916.0</td>\n",
       "      <td>56120.71</td>\n",
       "      <td>198306.9</td>\n",
       "      <td>None</td>\n",
       "      <td>332343.61</td>\n",
       "      <td>332343.61</td>\n",
       "      <td>2011</td>\n",
       "      <td>None</td>\n",
       "      <td>San Francisco</td>\n",
       "      <td>None</td>\n",
       "    </tr>\n",
       "    <tr>\n",
       "      <th>6</th>\n",
       "      <td>7</td>\n",
       "      <td>ALSON LEE</td>\n",
       "      <td>BATTALION CHIEF, (FIRE DEPARTMENT)</td>\n",
       "      <td>92492.01</td>\n",
       "      <td>89062.90</td>\n",
       "      <td>134426.14</td>\n",
       "      <td>None</td>\n",
       "      <td>315981.05</td>\n",
       "      <td>315981.05</td>\n",
       "      <td>2011</td>\n",
       "      <td>None</td>\n",
       "      <td>San Francisco</td>\n",
       "      <td>None</td>\n",
       "    </tr>\n",
       "    <tr>\n",
       "      <th>8</th>\n",
       "      <td>9</td>\n",
       "      <td>MICHAEL MORRIS</td>\n",
       "      <td>BATTALION CHIEF, (FIRE DEPARTMENT)</td>\n",
       "      <td>176932.64</td>\n",
       "      <td>86362.68</td>\n",
       "      <td>40132.23</td>\n",
       "      <td>None</td>\n",
       "      <td>303427.55</td>\n",
       "      <td>303427.55</td>\n",
       "      <td>2011</td>\n",
       "      <td>None</td>\n",
       "      <td>San Francisco</td>\n",
       "      <td>None</td>\n",
       "    </tr>\n",
       "  </tbody>\n",
       "</table>\n",
       "</div>"
      ],
      "text/plain": [
       "   Id       EmployeeName                              JobTitle    BasePay  \\\n",
       "1   2       GARY JIMENEZ       CAPTAIN III (POLICE DEPARTMENT)  155966.02   \n",
       "2   3     ALBERT PARDINI       CAPTAIN III (POLICE DEPARTMENT)  212739.13   \n",
       "3   4  CHRISTOPHER CHONG  WIRE ROPE CABLE MAINTENANCE MECHANIC    77916.0   \n",
       "6   7          ALSON LEE    BATTALION CHIEF, (FIRE DEPARTMENT)   92492.01   \n",
       "8   9     MICHAEL MORRIS    BATTALION CHIEF, (FIRE DEPARTMENT)  176932.64   \n",
       "\n",
       "   OvertimePay   OtherPay Benefits   TotalPay  TotalPayBenefits  Year Notes  \\\n",
       "1    245131.88  137811.38     None  538909.28         538909.28  2011  None   \n",
       "2    106088.18    16452.6     None  335279.91         335279.91  2011  None   \n",
       "3     56120.71   198306.9     None  332343.61         332343.61  2011  None   \n",
       "6     89062.90  134426.14     None  315981.05         315981.05  2011  None   \n",
       "8     86362.68   40132.23     None  303427.55         303427.55  2011  None   \n",
       "\n",
       "          Agency Status  \n",
       "1  San Francisco   None  \n",
       "2  San Francisco   None  \n",
       "3  San Francisco   None  \n",
       "6  San Francisco   None  \n",
       "8  San Francisco   None  "
      ]
     },
     "execution_count": 59,
     "metadata": {},
     "output_type": "execute_result"
    }
   ],
   "source": [
    "#todo\n",
    "empleados_trabajadores=df[[\"EmployeeName\", \"OvertimePay\"]]\n",
    "mayores_horas=df[df[\"OvertimePay\"]>50000]\n",
    "print(\"Los empleados con más de 50,000 de horas extras son:\")\n",
    "mayores_horas.head(5)"
   ]
  },
  {
   "cell_type": "markdown",
   "id": "518b4eab",
   "metadata": {},
   "source": [
    "3. **Contar cuántos empleados únicos hay por año**"
   ]
  },
  {
   "cell_type": "code",
   "execution_count": 54,
   "id": "e35c5908",
   "metadata": {},
   "outputs": [
    {
     "data": {
      "text/plain": [
       "Year\n",
       "2011    33878\n",
       "2012    34349\n",
       "2013    36150\n",
       "2014    36684\n",
       "Name: EmployeeName, dtype: int64"
      ]
     },
     "execution_count": 54,
     "metadata": {},
     "output_type": "execute_result"
    }
   ],
   "source": [
    "#todo\n",
    "df.groupby(\"Year\")[\"EmployeeName\"].nunique()"
   ]
  },
  {
   "cell_type": "markdown",
   "id": "9105e992",
   "metadata": {},
   "source": [
    "4. **Ver cuántos cargos únicos (JobTitle) existen y los 5 más comunes**"
   ]
  },
  {
   "cell_type": "code",
   "execution_count": 55,
   "id": "e388d537",
   "metadata": {},
   "outputs": [
    {
     "name": "stdout",
     "output_type": "stream",
     "text": [
      "El número de cargos únicos es:\n"
     ]
    },
    {
     "data": {
      "text/plain": [
       "294"
      ]
     },
     "execution_count": 55,
     "metadata": {},
     "output_type": "execute_result"
    }
   ],
   "source": [
    "#todo\n",
    "cargos_unicos = df['JobTitle'].value_counts().nunique()\n",
    "print(\"El número de cargos únicos es:\")\n",
    "cargos_unicos"
   ]
  },
  {
   "cell_type": "code",
   "execution_count": 56,
   "id": "4420d985",
   "metadata": {},
   "outputs": [
    {
     "name": "stdout",
     "output_type": "stream",
     "text": [
      "Los 5 cargos con más empleados son:\n"
     ]
    },
    {
     "data": {
      "text/plain": [
       "JobTitle\n",
       "Transit Operator                7036\n",
       "Special Nurse                   4389\n",
       "Registered Nurse                3736\n",
       "Public Svc Aide-Public Works    2518\n",
       "Police Officer 3                2421\n",
       "Name: count, dtype: int64"
      ]
     },
     "execution_count": 56,
     "metadata": {},
     "output_type": "execute_result"
    }
   ],
   "source": [
    "top_5=df[\"JobTitle\"].value_counts().sort_values( ascending=False).head(5)\n",
    "print(\"Los 5 cargos con más empleados son:\")\n",
    "\n",
    "top_5"
   ]
  },
  {
   "cell_type": "markdown",
   "id": "b34c7043",
   "metadata": {},
   "source": [
    "5. **Mostrar el salario total (TotalPay) promedio por año**"
   ]
  },
  {
   "cell_type": "code",
   "execution_count": 57,
   "id": "64d765f0",
   "metadata": {},
   "outputs": [
    {
     "name": "stdout",
     "output_type": "stream",
     "text": [
      "El salario promedio por año es:\n"
     ]
    },
    {
     "data": {
      "text/plain": [
       "Year\n",
       "2011     71744.103871\n",
       "2012    100553.229232\n",
       "2013    101440.519714\n",
       "2014    100250.918884\n",
       "Name: TotalPayBenefits, dtype: float64"
      ]
     },
     "execution_count": 57,
     "metadata": {},
     "output_type": "execute_result"
    }
   ],
   "source": [
    "#todo\n",
    "salario_total=df.groupby(\"Year\")[\"TotalPayBenefits\"].mean()\n",
    "print(\"El salario promedio por año es:\")\n",
    "salario_total"
   ]
  },
  {
   "cell_type": "markdown",
   "id": "cd1d7071",
   "metadata": {},
   "source": [
    "6. **Exporta todos los datos a un CSV y muestra los ultimos 10 valores**"
   ]
  },
  {
   "cell_type": "code",
   "execution_count": 58,
   "id": "1f27e45c",
   "metadata": {},
   "outputs": [],
   "source": [
    "#todo\n",
    "df.to_csv(\"Salaries_con_cambios.csv\", index=False)"
   ]
  }
 ],
 "metadata": {
  "kernelspec": {
   "display_name": "Python 3",
   "language": "python",
   "name": "python3"
  },
  "language_info": {
   "codemirror_mode": {
    "name": "ipython",
    "version": 3
   },
   "file_extension": ".py",
   "mimetype": "text/x-python",
   "name": "python",
   "nbconvert_exporter": "python",
   "pygments_lexer": "ipython3",
   "version": "3.12.6"
  }
 },
 "nbformat": 4,
 "nbformat_minor": 5
}
